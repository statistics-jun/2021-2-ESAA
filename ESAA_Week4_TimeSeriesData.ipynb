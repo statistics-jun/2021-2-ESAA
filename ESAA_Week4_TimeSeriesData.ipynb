{
 "cells": [
  {
   "cell_type": "markdown",
   "id": "7d45c914",
   "metadata": {},
   "source": [
    "# 2021-2 ESAA 5기 김혜준 필사 과제\n",
    "\n",
    "## Do it! 데이터 분석을 위한 판다스 입문\n",
    "\n",
    "## Chapter 12 시계열 데이터"
   ]
  },
  {
   "cell_type": "markdown",
   "id": "b7bef2ad",
   "metadata": {},
   "source": [
    "### 12-1  datetime 오브젝트"
   ]
  },
  {
   "cell_type": "code",
   "execution_count": 4,
   "id": "b0e5569b",
   "metadata": {},
   "outputs": [],
   "source": [
    "### datetime 오브젝트 사용하기\n",
    "\n",
    "# 1. datetime 라이브러리 불러오기\n",
    "\n",
    "from datetime import datetime"
   ]
  },
  {
   "cell_type": "code",
   "execution_count": 5,
   "id": "3ef16077",
   "metadata": {},
   "outputs": [
    {
     "name": "stdout",
     "output_type": "stream",
     "text": [
      "2021-10-02 22:32:57.525381\n",
      "2021-10-02 22:32:57.525381\n"
     ]
    }
   ],
   "source": [
    "# 2. .now(), .today() -> 현재 시간 출력\n",
    "\n",
    "now1 = datetime.now()\n",
    "print(now1)\n",
    "\n",
    "now2 = datetime.today()\n",
    "print(now2)"
   ]
  },
  {
   "cell_type": "code",
   "execution_count": 7,
   "id": "ea930c75",
   "metadata": {},
   "outputs": [
    {
     "name": "stdout",
     "output_type": "stream",
     "text": [
      "2021-10-02 22:37:40.531559\n",
      "1970-01-01 00:00:00\n",
      "1970-12-12 13:24:34\n"
     ]
    }
   ],
   "source": [
    "# 3. datetime 오브젝트 생성\n",
    "\n",
    "t1 = datetime.now()\n",
    "t2 = datetime(1970, 1, 1)\n",
    "t3 = datetime(1970, 12, 12, 13, 24, 34)\n",
    "\n",
    "print(t1)\n",
    "print(t2)\n",
    "print(t3)"
   ]
  },
  {
   "cell_type": "code",
   "execution_count": 8,
   "id": "865d370c",
   "metadata": {},
   "outputs": [
    {
     "name": "stdout",
     "output_type": "stream",
     "text": [
      "18902 days, 22:37:40.531559\n",
      "<class 'datetime.timedelta'>\n"
     ]
    }
   ],
   "source": [
    "# 4. 시간 계산 - 두 datetime 오브젝트의 차이\n",
    "\n",
    "diff1 = t1- t2\n",
    "\n",
    "print(diff1)\n",
    "print(type(diff1))"
   ]
  },
  {
   "cell_type": "code",
   "execution_count": 9,
   "id": "cd027291",
   "metadata": {},
   "outputs": [
    {
     "name": "stdout",
     "output_type": "stream",
     "text": [
      "-18903 days, 1:22:19.468441\n",
      "<class 'datetime.timedelta'>\n"
     ]
    }
   ],
   "source": [
    "diff2 = t2- t1\n",
    "\n",
    "print(diff2)\n",
    "print(type(diff2))"
   ]
  },
  {
   "cell_type": "markdown",
   "id": "882e72f2",
   "metadata": {},
   "source": [
    "### 12-2 사례별 시계열 데이터 계산하기"
   ]
  },
  {
   "cell_type": "code",
   "execution_count": 19,
   "id": "f93ab003",
   "metadata": {},
   "outputs": [],
   "source": [
    "### 테슬라 주식 데이터로 시간 계산하기\n",
    "\n",
    "# 1. tesla 데이터프레임 생성\n",
    "\n",
    "import pandas as pd\n",
    "\n",
    "pd.core.common.is_list_like = pd.api.types.is_list_like\n",
    "import pandas_datareader as pdr\n",
    "\n",
    "# tesla에 데이터프레임 저장\n",
    "tesla = pdr.get_data_quandl('TSLA', api_key = 'AgxqyXi_zkwq6ojzmPh5')\n",
    "\n",
    "# tesla에 저장된 데이터프레임을 파일로 저장\n",
    "tesla.to_csv('./data/tesla_stock_quandl.csv')"
   ]
  },
  {
   "cell_type": "code",
   "execution_count": 23,
   "id": "e785e349",
   "metadata": {},
   "outputs": [
    {
     "name": "stdout",
     "output_type": "stream",
     "text": [
      "        Date    Open    High     Low   Close      Volume  ExDividend  \\\n",
      "0 2018-03-27  304.00  304.27  277.18  279.18  13696168.0         0.0   \n",
      "1 2018-03-26  307.34  307.59  291.36  304.18   8324639.0         0.0   \n",
      "2 2018-03-23  311.25  311.61  300.45  301.54   6600538.0         0.0   \n",
      "3 2018-03-22  313.89  318.82  308.18  309.10   4914307.0         0.0   \n",
      "4 2018-03-21  310.25  322.44  310.19  316.53   5927881.0         0.0   \n",
      "\n",
      "   SplitRatio  AdjOpen  AdjHigh  AdjLow  AdjClose   AdjVolume  \n",
      "0         1.0   304.00   304.27  277.18    279.18  13696168.0  \n",
      "1         1.0   307.34   307.59  291.36    304.18   8324639.0  \n",
      "2         1.0   311.25   311.61  300.45    301.54   6600538.0  \n",
      "3         1.0   313.89   318.82  308.18    309.10   4914307.0  \n",
      "4         1.0   310.25   322.44  310.19    316.53   5927881.0  \n",
      "          Date    Open      High     Low   Close     Volume  ExDividend  \\\n",
      "366 2016-10-10  201.35  204.1400  199.66  200.95  3316297.0         0.0   \n",
      "367 2016-10-07  201.00  201.3200  195.80  196.61  3493018.0         0.0   \n",
      "368 2016-10-06  202.46  204.2099  200.21  201.00  4703402.0         0.0   \n",
      "369 2016-10-05  212.24  213.1500  208.12  208.46  1877534.0         0.0   \n",
      "370 2016-10-04  213.10  213.3200  208.82  211.41  3541481.0         0.0   \n",
      "\n",
      "     SplitRatio  AdjOpen   AdjHigh  AdjLow  AdjClose  AdjVolume  \n",
      "366         1.0   201.35  204.1400  199.66    200.95  3316297.0  \n",
      "367         1.0   201.00  201.3200  195.80    196.61  3493018.0  \n",
      "368         1.0   202.46  204.2099  200.21    201.00  4703402.0  \n",
      "369         1.0   212.24  213.1500  208.12    208.46  1877534.0  \n",
      "370         1.0   213.10  213.3200  208.82    211.41  3541481.0  \n"
     ]
    }
   ],
   "source": [
    "# 2. tesla 데이터프레임 확인\n",
    "\n",
    "print(tesla.head())\n",
    "print(tesla.tail())"
   ]
  },
  {
   "cell_type": "code",
   "execution_count": 24,
   "id": "0b137a27",
   "metadata": {},
   "outputs": [
    {
     "name": "stdout",
     "output_type": "stream",
     "text": [
      "<class 'pandas.core.frame.DataFrame'>\n",
      "RangeIndex: 371 entries, 0 to 370\n",
      "Data columns (total 13 columns):\n",
      " #   Column      Non-Null Count  Dtype         \n",
      "---  ------      --------------  -----         \n",
      " 0   Date        371 non-null    datetime64[ns]\n",
      " 1   Open        371 non-null    float64       \n",
      " 2   High        371 non-null    float64       \n",
      " 3   Low         371 non-null    float64       \n",
      " 4   Close       371 non-null    float64       \n",
      " 5   Volume      371 non-null    float64       \n",
      " 6   ExDividend  371 non-null    float64       \n",
      " 7   SplitRatio  371 non-null    float64       \n",
      " 8   AdjOpen     371 non-null    float64       \n",
      " 9   AdjHigh     371 non-null    float64       \n",
      " 10  AdjLow      371 non-null    float64       \n",
      " 11  AdjClose    371 non-null    float64       \n",
      " 12  AdjVolume   371 non-null    float64       \n",
      "dtypes: datetime64[ns](1), float64(12)\n",
      "memory usage: 37.8 KB\n",
      "None\n"
     ]
    }
   ],
   "source": [
    "# 3. date 열을 datetime 형으로 변환 -> read_csv 이용\n",
    "\n",
    "tesla = pd.read_csv('./data/tesla_stock_quandl.csv', parse_dates=[0])\n",
    "print(tesla.info())"
   ]
  },
  {
   "cell_type": "code",
   "execution_count": 31,
   "id": "aa9ce8e8",
   "metadata": {},
   "outputs": [
    {
     "name": "stdout",
     "output_type": "stream",
     "text": [
      "          Date    Open      High       Low   Close      Volume  ExDividend  \\\n",
      "164 2017-07-31  335.50  341.4900  321.0400  323.47   8499335.0         0.0   \n",
      "165 2017-07-28  336.89  339.6000  332.5100  335.07   4841257.0         0.0   \n",
      "166 2017-07-27  346.00  347.5000  326.2900  334.46   8259202.0         0.0   \n",
      "167 2017-07-26  340.36  345.5000  338.1200  343.85   4750198.0         0.0   \n",
      "168 2017-07-25  345.00  345.6000  334.1500  339.60   6958889.0         0.0   \n",
      "169 2017-07-24  330.24  343.3990  330.0100  342.52   8552012.0         0.0   \n",
      "170 2017-07-21  329.46  331.2575  325.8000  328.40   4826383.0         0.0   \n",
      "171 2017-07-20  326.90  330.2200  324.2000  329.92   5098707.0         0.0   \n",
      "172 2017-07-19  328.23  331.6500  323.2193  325.26   6300735.0         0.0   \n",
      "173 2017-07-18  317.50  329.1300  315.6600  328.24   6326961.0         0.0   \n",
      "174 2017-07-17  325.54  327.1000  313.4500  319.57   9784200.0         0.0   \n",
      "175 2017-07-14  323.19  328.4200  321.2200  327.78   5590393.0         0.0   \n",
      "176 2017-07-13  330.11  331.6000  319.9700  323.41   8540442.0         0.0   \n",
      "177 2017-07-12  330.40  333.1000  324.5000  329.52  10297839.0         0.0   \n",
      "178 2017-07-11  316.00  327.2800  314.3000  327.22  11400054.0         0.0   \n",
      "179 2017-07-10  312.90  317.9400  303.1300  316.05  13702080.0         0.0   \n",
      "180 2017-07-07  313.50  317.0000  307.3800  313.22  14053750.0         0.0   \n",
      "181 2017-07-06  317.26  320.7899  306.3000  308.89  19189195.0         0.0   \n",
      "182 2017-07-05  347.20  347.2400  326.3300  327.09  16883496.0         0.0   \n",
      "183 2017-07-03  370.24  371.3500  351.5000  352.62   6297330.0         0.0   \n",
      "\n",
      "     SplitRatio  AdjOpen   AdjHigh    AdjLow  AdjClose   AdjVolume  \n",
      "164         1.0   335.50  341.4900  321.0400    323.47   8499335.0  \n",
      "165         1.0   336.89  339.6000  332.5100    335.07   4841257.0  \n",
      "166         1.0   346.00  347.5000  326.2900    334.46   8259202.0  \n",
      "167         1.0   340.36  345.5000  338.1200    343.85   4750198.0  \n",
      "168         1.0   345.00  345.6000  334.1500    339.60   6958889.0  \n",
      "169         1.0   330.24  343.3990  330.0100    342.52   8552012.0  \n",
      "170         1.0   329.46  331.2575  325.8000    328.40   4826383.0  \n",
      "171         1.0   326.90  330.2200  324.2000    329.92   5098707.0  \n",
      "172         1.0   328.23  331.6500  323.2193    325.26   6300735.0  \n",
      "173         1.0   317.50  329.1300  315.6600    328.24   6326961.0  \n",
      "174         1.0   325.54  327.1000  313.4500    319.57   9784200.0  \n",
      "175         1.0   323.19  328.4200  321.2200    327.78   5590393.0  \n",
      "176         1.0   330.11  331.6000  319.9700    323.41   8540442.0  \n",
      "177         1.0   330.40  333.1000  324.5000    329.52  10297839.0  \n",
      "178         1.0   316.00  327.2800  314.3000    327.22  11400054.0  \n",
      "179         1.0   312.90  317.9400  303.1300    316.05  13702080.0  \n",
      "180         1.0   313.50  317.0000  307.3800    313.22  14053750.0  \n",
      "181         1.0   317.26  320.7899  306.3000    308.89  19189195.0  \n",
      "182         1.0   347.20  347.2400  326.3300    327.09  16883496.0  \n",
      "183         1.0   370.24  371.3500  351.5000    352.62   6297330.0  \n"
     ]
    }
   ],
   "source": [
    "# 4. dt 점근자로 데이터 추출\n",
    "\n",
    "# print(tesla.loc[(tesla.Date.dt.year == 2010) & (tesla.Date.dt.month == 6)])\n",
    "print(tesla.loc[(tesla.Date.dt.year == 2017) & (tesla.Date.dt.month == 7)])"
   ]
  },
  {
   "cell_type": "markdown",
   "id": "3cc99f78",
   "metadata": {},
   "source": [
    "#### datetime 오브젝트와 인덱스 - DatetimeIndex"
   ]
  },
  {
   "cell_type": "code",
   "execution_count": 32,
   "id": "9ee339a5",
   "metadata": {},
   "outputs": [
    {
     "name": "stdout",
     "output_type": "stream",
     "text": [
      "DatetimeIndex(['2018-03-27', '2018-03-26', '2018-03-23', '2018-03-22',\n",
      "               '2018-03-21', '2018-03-20', '2018-03-19', '2018-03-16',\n",
      "               '2018-03-15', '2018-03-14',\n",
      "               ...\n",
      "               '2016-10-17', '2016-10-14', '2016-10-13', '2016-10-12',\n",
      "               '2016-10-11', '2016-10-10', '2016-10-07', '2016-10-06',\n",
      "               '2016-10-05', '2016-10-04'],\n",
      "              dtype='datetime64[ns]', name='Date', length=371, freq=None)\n"
     ]
    }
   ],
   "source": [
    "### datetime 오브젝트를 인덱스로 설정해 데이터 추출하기\n",
    "\n",
    "# 1. Date 열을 tesla 데이터프레임의 인덱스로 지정\n",
    "\n",
    "tesla.index = tesla['Date']\n",
    "print(tesla.index)"
   ]
  },
  {
   "cell_type": "code",
   "execution_count": 33,
   "id": "d5e89bdb",
   "metadata": {},
   "outputs": [
    {
     "name": "stdout",
     "output_type": "stream",
     "text": [
      "                 Date    Open    High       Low   Close\n",
      "Date                                                   \n",
      "2016-12-30 2016-12-30  216.30  217.50  211.6800  213.69\n",
      "2016-12-29 2016-12-29  218.56  219.20  214.1225  214.68\n",
      "2016-12-28 2016-12-28  221.53  223.80  217.2000  219.74\n",
      "2016-12-27 2016-12-27  214.88  222.25  214.4200  219.53\n",
      "2016-12-23 2016-12-23  208.00  213.45  207.7100  213.34\n"
     ]
    },
    {
     "name": "stderr",
     "output_type": "stream",
     "text": [
      "<ipython-input-33-fd96ff35baee>:4: FutureWarning: Indexing a DataFrame with a datetimelike index using a single string to slice the rows, like `frame[string]`, is deprecated and will be removed in a future version. Use `frame.loc[string]` instead.\n",
      "  print(tesla['2016'].iloc[:5,:5])\n"
     ]
    }
   ],
   "source": [
    "# 2. 원하는 시간의 데이터 추출 - 연도\n",
    "\n",
    "# print(tesla['2015'].iloc[:5,:5])\n",
    "print(tesla['2016'].iloc[:5,:5])"
   ]
  },
  {
   "cell_type": "code",
   "execution_count": 34,
   "id": "3e82563f",
   "metadata": {},
   "outputs": [
    {
     "name": "stdout",
     "output_type": "stream",
     "text": [
      "                 Date     Open      High       Low   Close\n",
      "Date                                                      \n",
      "2017-06-30 2017-06-30  363.710  366.7674  359.6187  361.61\n",
      "2017-06-29 2017-06-29  370.610  371.0000  354.1000  360.75\n",
      "2017-06-28 2017-06-28  366.680  371.7400  362.5200  371.24\n",
      "2017-06-27 2017-06-27  376.400  376.4000  362.0200  362.37\n",
      "2017-06-26 2017-06-26  386.690  386.9500  373.1000  377.49\n",
      "2017-06-23 2017-06-23  382.450  386.9900  379.3450  383.45\n",
      "2017-06-22 2017-06-22  377.990  385.0000  373.5700  382.61\n",
      "2017-06-21 2017-06-21  374.350  376.9900  368.0200  376.40\n",
      "2017-06-20 2017-06-20  376.670  378.8800  369.7300  372.24\n",
      "2017-06-19 2017-06-19  375.000  376.7000  367.8000  369.80\n",
      "2017-06-16 2017-06-16  377.975  378.0100  370.1000  371.40\n",
      "2017-06-15 2017-06-15  372.500  375.4600  366.4900  375.34\n",
      "2017-06-14 2017-06-14  381.085  384.2500  376.3100  380.66\n",
      "2017-06-13 2017-06-13  367.620  376.0000  366.6100  375.95\n",
      "2017-06-12 2017-06-12  357.990  364.5000  350.6200  359.01\n",
      "2017-06-09 2017-06-09  374.420  376.8700  354.8000  357.32\n",
      "2017-06-08 2017-06-08  363.750  371.9000  360.2200  370.00\n",
      "2017-06-07 2017-06-07  356.340  360.5000  355.1400  359.65\n",
      "2017-06-06 2017-06-06  344.700  359.4929  339.9700  352.85\n",
      "2017-06-05 2017-06-05  338.500  348.4400  334.2100  347.32\n",
      "2017-06-02 2017-06-02  339.770  342.8800  335.9300  339.85\n",
      "2017-06-01 2017-06-01  344.000  344.8800  337.2900  340.37\n"
     ]
    },
    {
     "name": "stderr",
     "output_type": "stream",
     "text": [
      "<ipython-input-34-be537082d178>:4: FutureWarning: Indexing a DataFrame with a datetimelike index using a single string to slice the rows, like `frame[string]`, is deprecated and will be removed in a future version. Use `frame.loc[string]` instead.\n",
      "  print(tesla['2017-06'].iloc[:,:5])\n"
     ]
    }
   ],
   "source": [
    "# 3. 원하는 시간의 데이터 추출 - 월\n",
    "\n",
    "# print(tesla['2010-06'].iloc[:,:5])\n",
    "print(tesla['2017-06'].iloc[:,:5])"
   ]
  },
  {
   "cell_type": "markdown",
   "id": "ce674d8a",
   "metadata": {},
   "source": [
    "#### 시간 간격과 인덱스 - TimedeltaIndex"
   ]
  },
  {
   "cell_type": "code",
   "execution_count": 35,
   "id": "3c491748",
   "metadata": {},
   "outputs": [
    {
     "name": "stdout",
     "output_type": "stream",
     "text": [
      "                 Date    Open    High     Low   Close      Volume  ExDividend  \\\n",
      "Date                                                                            \n",
      "2018-03-27 2018-03-27  304.00  304.27  277.18  279.18  13696168.0         0.0   \n",
      "2018-03-26 2018-03-26  307.34  307.59  291.36  304.18   8324639.0         0.0   \n",
      "2018-03-23 2018-03-23  311.25  311.61  300.45  301.54   6600538.0         0.0   \n",
      "2018-03-22 2018-03-22  313.89  318.82  308.18  309.10   4914307.0         0.0   \n",
      "2018-03-21 2018-03-21  310.25  322.44  310.19  316.53   5927881.0         0.0   \n",
      "\n",
      "            SplitRatio  AdjOpen  AdjHigh  AdjLow  AdjClose   AdjVolume  \\\n",
      "Date                                                                     \n",
      "2018-03-27         1.0   304.00   304.27  277.18    279.18  13696168.0   \n",
      "2018-03-26         1.0   307.34   307.59  291.36    304.18   8324639.0   \n",
      "2018-03-23         1.0   311.25   311.61  300.45    301.54   6600538.0   \n",
      "2018-03-22         1.0   313.89   318.82  308.18    309.10   4914307.0   \n",
      "2018-03-21         1.0   310.25   322.44  310.19    316.53   5927881.0   \n",
      "\n",
      "           ref_date  \n",
      "Date                 \n",
      "2018-03-27 539 days  \n",
      "2018-03-26 538 days  \n",
      "2018-03-23 535 days  \n",
      "2018-03-22 534 days  \n",
      "2018-03-21 533 days  \n"
     ]
    }
   ],
   "source": [
    "### 시간 간격을 인덱스로 지정해 데이터 추출하기\n",
    "\n",
    "# 1. 데이터 수집 이후 흐른 시간 계산\n",
    "\n",
    "tesla['ref_date'] = tesla['Date'] - tesla['Date'].min()\n",
    "print(tesla.head())"
   ]
  },
  {
   "cell_type": "code",
   "execution_count": 36,
   "id": "7a13fa86",
   "metadata": {},
   "outputs": [
    {
     "name": "stdout",
     "output_type": "stream",
     "text": [
      "               Date    Open    High     Low   Close\n",
      "ref_date                                           \n",
      "539 days 2018-03-27  304.00  304.27  277.18  279.18\n",
      "538 days 2018-03-26  307.34  307.59  291.36  304.18\n",
      "535 days 2018-03-23  311.25  311.61  300.45  301.54\n",
      "534 days 2018-03-22  313.89  318.82  308.18  309.10\n",
      "533 days 2018-03-21  310.25  322.44  310.19  316.53\n"
     ]
    }
   ],
   "source": [
    "# 2. 시간 간격을 인덱스로 지정\n",
    "\n",
    "tesla.index = tesla['ref_date']\n",
    "print(tesla.iloc[:5, :5])"
   ]
  },
  {
   "cell_type": "code",
   "execution_count": 38,
   "id": "5cc0be29",
   "metadata": {},
   "outputs": [
    {
     "name": "stdout",
     "output_type": "stream",
     "text": [
      "               Date    Open      High     Low   Close\n",
      "ref_date                                             \n",
      "3 days   2016-10-07  201.00  201.3200  195.80  196.61\n",
      "2 days   2016-10-06  202.46  204.2099  200.21  201.00\n",
      "1 days   2016-10-05  212.24  213.1500  208.12  208.46\n",
      "0 days   2016-10-04  213.10  213.3200  208.82  211.41\n"
     ]
    }
   ],
   "source": [
    "# 3. 데이터 수집 이후 최초 5일 데이터 추출\n",
    "\n",
    "print(tesla['5 days':].iloc[:5, :5])"
   ]
  },
  {
   "cell_type": "markdown",
   "id": "e731dd38",
   "metadata": {},
   "source": [
    "#### 시간 범위와 인덱스"
   ]
  },
  {
   "cell_type": "code",
   "execution_count": 51,
   "id": "1ed700a1",
   "metadata": {},
   "outputs": [
    {
     "name": "stdout",
     "output_type": "stream",
     "text": [
      "        Date  Day  Cases_Guinea  Cases_Liberia  Cases_SierraLeone\n",
      "0 2015-01-05  289        2776.0            NaN            10030.0\n",
      "1 2015-01-04  288        2775.0            NaN             9780.0\n",
      "2 2015-01-03  287        2769.0         8166.0             9722.0\n",
      "3 2015-01-02  286           NaN         8157.0                NaN\n",
      "4 2014-12-31  284        2730.0         8115.0             9633.0\n"
     ]
    }
   ],
   "source": [
    "### 시간 범위 생성해 인덱스로 지정하기\n",
    "\n",
    "# 1. 에볼라 데이터 집합 -> 2015년 01월 01일 데이터 누락\n",
    "\n",
    "ebola = pd.read_csv('./data/country_timeseries.csv', parse_dates=[0])\n",
    "print(ebola.iloc[:5,:5])"
   ]
  },
  {
   "cell_type": "code",
   "execution_count": 52,
   "id": "b1651f20",
   "metadata": {},
   "outputs": [
    {
     "name": "stdout",
     "output_type": "stream",
     "text": [
      "Date                 2014-03-27 00:00:00\n",
      "Day                                    5\n",
      "Cases_Guinea                       103.0\n",
      "Cases_Liberia                        8.0\n",
      "Cases_SierraLeone                    6.0\n",
      "Name: 117, dtype: object\n"
     ]
    }
   ],
   "source": [
    "# 2. 에볼라 데이터 집합 -> 2014년 03월 23일 데이터 누락\n",
    "\n",
    "print(ebola.iloc[-5,:5])"
   ]
  },
  {
   "cell_type": "code",
   "execution_count": 53,
   "id": "d2b53044",
   "metadata": {},
   "outputs": [
    {
     "name": "stdout",
     "output_type": "stream",
     "text": [
      "DatetimeIndex(['2014-12-31', '2015-01-01', '2015-01-02', '2015-01-03',\n",
      "               '2015-01-04', '2015-01-05'],\n",
      "              dtype='datetime64[ns]', freq='D')\n"
     ]
    }
   ],
   "source": [
    "# 3. 시간 인덱스 생성 -> date_range()\n",
    "\n",
    "head_range = pd.date_range(start = '2014-12-31', end = '2015-01-05')\n",
    "print(head_range)"
   ]
  },
  {
   "cell_type": "code",
   "execution_count": 54,
   "id": "40cfc913",
   "metadata": {},
   "outputs": [
    {
     "name": "stdout",
     "output_type": "stream",
     "text": [
      "                 Date  Day  Cases_Guinea  Cases_Liberia  Cases_SierraLeone\n",
      "Date                                                                      \n",
      "2015-01-05 2015-01-05  289        2776.0            NaN            10030.0\n",
      "2015-01-04 2015-01-04  288        2775.0            NaN             9780.0\n",
      "2015-01-03 2015-01-03  287        2769.0         8166.0             9722.0\n",
      "2015-01-02 2015-01-02  286           NaN         8157.0                NaN\n",
      "2014-12-31 2014-12-31  284        2730.0         8115.0             9633.0\n"
     ]
    }
   ],
   "source": [
    "# 4. date 열을 인덱스로 지정한 후, 시간 범위를 인덱스로 지정\n",
    "\n",
    "ebola_5 = ebola.head()\n",
    "ebola_5.index = ebola_5['Date']\n",
    "ebola_5.reindex(head_range)\n",
    "print(ebola_5.iloc[:5, :5])"
   ]
  },
  {
   "cell_type": "code",
   "execution_count": 55,
   "id": "d1f90c84",
   "metadata": {},
   "outputs": [
    {
     "name": "stdout",
     "output_type": "stream",
     "text": [
      "DatetimeIndex(['2017-01-02', '2017-01-03', '2017-01-04', '2017-01-05',\n",
      "               '2017-01-06'],\n",
      "              dtype='datetime64[ns]', freq='B')\n"
     ]
    }
   ],
   "source": [
    "### 시간 범위의 주기 설정하기\n",
    "\n",
    "# date_range 메서드의 freq 인잣값 조절로 시간 범위 인덱스 생성\n",
    "\n",
    "print(pd.date_range('2017-01-01', '2017-01-07', freq = 'B'))"
   ]
  }
 ],
 "metadata": {
  "kernelspec": {
   "display_name": "Python 3",
   "language": "python",
   "name": "python3"
  },
  "language_info": {
   "codemirror_mode": {
    "name": "ipython",
    "version": 3
   },
   "file_extension": ".py",
   "mimetype": "text/x-python",
   "name": "python",
   "nbconvert_exporter": "python",
   "pygments_lexer": "ipython3",
   "version": "3.8.8"
  }
 },
 "nbformat": 4,
 "nbformat_minor": 5
}
